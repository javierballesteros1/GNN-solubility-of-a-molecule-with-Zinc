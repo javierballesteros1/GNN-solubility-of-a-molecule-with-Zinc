{
  "nbformat": 4,
  "nbformat_minor": 0,
  "metadata": {
    "colab": {
      "provenance": [],
      "authorship_tag": "ABX9TyNY/eFy+pFc0e0m8XxLRNsb",
      "include_colab_link": true
    },
    "kernelspec": {
      "name": "python3",
      "display_name": "Python 3"
    },
    "language_info": {
      "name": "python"
    }
  },
  "cells": [
    {
      "cell_type": "markdown",
      "metadata": {
        "id": "view-in-github",
        "colab_type": "text"
      },
      "source": [
        "<a href=\"https://colab.research.google.com/github/javierballesteros1/GNN-solubility-of-a-molecule-with-Zinc/blob/main/PyG_How_to_Evaluate_the_Solubility_of_a_Molecule_with_Zinc_through_Graph_Neural_Networks.ipynb\" target=\"_parent\"><img src=\"https://colab.research.google.com/assets/colab-badge.svg\" alt=\"Open In Colab\"/></a>"
      ]
    },
    {
      "cell_type": "markdown",
      "source": [
        "# PyG: How to Evaluate the Solubility of a Molecule with Zinc through Graph Neural Networks"
      ],
      "metadata": {
        "id": "PZjTvzWACZXT"
      }
    },
    {
      "cell_type": "markdown",
      "source": [
        "# 0. Import packages"
      ],
      "metadata": {
        "id": "puBWhza5XYI7"
      }
    },
    {
      "cell_type": "code",
      "execution_count": 1,
      "metadata": {
        "id": "BCfCCyZxW9JI",
        "colab": {
          "base_uri": "https://localhost:8080/",
          "height": 1000
        },
        "outputId": "69f454b2-60de-417f-d2aa-34c9b025f0e6"
      },
      "outputs": [
        {
          "output_type": "stream",
          "name": "stdout",
          "text": [
            "\u001b[33mWARNING: Skipping torch-scatter as it is not installed.\u001b[0m\n",
            "\u001b[33mWARNING: Skipping torch-sparse as it is not installed.\u001b[0m\n",
            "\u001b[33mWARNING: Skipping torch-geometric as it is not installed.\u001b[0m\n",
            "\u001b[33mWARNING: Skipping torch-cluster as it is not installed.\u001b[0m\n",
            "Looking in indexes: https://pypi.org/simple, https://us-python.pkg.dev/colab-wheels/public/simple/\n",
            "Looking in links: https://data.pyg.org/whl/torch-1.13.0+cu116.html\n",
            "Collecting torch-scatter\n",
            "  Downloading https://data.pyg.org/whl/torch-1.13.0%2Bcu116/torch_scatter-2.1.0%2Bpt113cu116-cp38-cp38-linux_x86_64.whl (9.4 MB)\n",
            "\u001b[K     |████████████████████████████████| 9.4 MB 7.2 MB/s \n",
            "\u001b[?25hInstalling collected packages: torch-scatter\n",
            "Successfully installed torch-scatter-2.1.0+pt113cu116\n",
            "Looking in indexes: https://pypi.org/simple, https://us-python.pkg.dev/colab-wheels/public/simple/\n",
            "Looking in links: https://data.pyg.org/whl/torch-1.13.0+cu116.html\n",
            "Collecting torch-sparse\n",
            "  Downloading https://data.pyg.org/whl/torch-1.13.0%2Bcu116/torch_sparse-0.6.15%2Bpt113cu116-cp38-cp38-linux_x86_64.whl (4.6 MB)\n",
            "\u001b[K     |████████████████████████████████| 4.6 MB 7.1 MB/s \n",
            "\u001b[?25hRequirement already satisfied: scipy in /usr/local/lib/python3.8/dist-packages (from torch-sparse) (1.7.3)\n",
            "Requirement already satisfied: numpy<1.23.0,>=1.16.5 in /usr/local/lib/python3.8/dist-packages (from scipy->torch-sparse) (1.21.6)\n",
            "Installing collected packages: torch-sparse\n",
            "Successfully installed torch-sparse-0.6.15+pt113cu116\n",
            "Looking in indexes: https://pypi.org/simple, https://us-python.pkg.dev/colab-wheels/public/simple/\n",
            "Looking in links: https://data.pyg.org/whl/torch-1.13.0+cu116.html\n",
            "Collecting torch-cluster\n",
            "  Downloading https://data.pyg.org/whl/torch-1.13.0%2Bcu116/torch_cluster-1.6.0%2Bpt113cu116-cp38-cp38-linux_x86_64.whl (3.2 MB)\n",
            "\u001b[K     |████████████████████████████████| 3.2 MB 6.5 MB/s \n",
            "\u001b[?25hRequirement already satisfied: scipy in /usr/local/lib/python3.8/dist-packages (from torch-cluster) (1.7.3)\n",
            "Requirement already satisfied: numpy<1.23.0,>=1.16.5 in /usr/local/lib/python3.8/dist-packages (from scipy->torch-cluster) (1.21.6)\n",
            "Installing collected packages: torch-cluster\n",
            "Successfully installed torch-cluster-1.6.0+pt113cu116\n",
            "Looking in indexes: https://pypi.org/simple, https://us-python.pkg.dev/colab-wheels/public/simple/\n",
            "Collecting git+https://github.com/pyg-team/pytorch_geometric.git\n",
            "  Cloning https://github.com/pyg-team/pytorch_geometric.git to /tmp/pip-req-build-c0rsetec\n",
            "  Running command git clone -q https://github.com/pyg-team/pytorch_geometric.git /tmp/pip-req-build-c0rsetec\n",
            "Requirement already satisfied: tqdm in /usr/local/lib/python3.8/dist-packages (from torch-geometric==2.2.0) (4.64.1)\n",
            "Requirement already satisfied: numpy in /usr/local/lib/python3.8/dist-packages (from torch-geometric==2.2.0) (1.21.6)\n",
            "Requirement already satisfied: scipy in /usr/local/lib/python3.8/dist-packages (from torch-geometric==2.2.0) (1.7.3)\n",
            "Requirement already satisfied: jinja2 in /usr/local/lib/python3.8/dist-packages (from torch-geometric==2.2.0) (2.11.3)\n",
            "Requirement already satisfied: requests in /usr/local/lib/python3.8/dist-packages (from torch-geometric==2.2.0) (2.23.0)\n",
            "Requirement already satisfied: pyparsing in /usr/local/lib/python3.8/dist-packages (from torch-geometric==2.2.0) (3.0.9)\n",
            "Collecting torchmetrics\n",
            "  Downloading torchmetrics-0.11.0-py3-none-any.whl (512 kB)\n",
            "\u001b[K     |████████████████████████████████| 512 kB 16.1 MB/s \n",
            "\u001b[?25hRequirement already satisfied: scikit-learn in /usr/local/lib/python3.8/dist-packages (from torch-geometric==2.2.0) (1.0.2)\n",
            "Collecting psutil>=5.8.0\n",
            "  Downloading psutil-5.9.4-cp36-abi3-manylinux_2_12_x86_64.manylinux2010_x86_64.manylinux_2_17_x86_64.manylinux2014_x86_64.whl (280 kB)\n",
            "\u001b[K     |████████████████████████████████| 280 kB 63.9 MB/s \n",
            "\u001b[?25hRequirement already satisfied: MarkupSafe>=0.23 in /usr/local/lib/python3.8/dist-packages (from jinja2->torch-geometric==2.2.0) (2.0.1)\n",
            "Requirement already satisfied: idna<3,>=2.5 in /usr/local/lib/python3.8/dist-packages (from requests->torch-geometric==2.2.0) (2.10)\n",
            "Requirement already satisfied: urllib3!=1.25.0,!=1.25.1,<1.26,>=1.21.1 in /usr/local/lib/python3.8/dist-packages (from requests->torch-geometric==2.2.0) (1.24.3)\n",
            "Requirement already satisfied: certifi>=2017.4.17 in /usr/local/lib/python3.8/dist-packages (from requests->torch-geometric==2.2.0) (2022.12.7)\n",
            "Requirement already satisfied: chardet<4,>=3.0.2 in /usr/local/lib/python3.8/dist-packages (from requests->torch-geometric==2.2.0) (3.0.4)\n",
            "Requirement already satisfied: threadpoolctl>=2.0.0 in /usr/local/lib/python3.8/dist-packages (from scikit-learn->torch-geometric==2.2.0) (3.1.0)\n",
            "Requirement already satisfied: joblib>=0.11 in /usr/local/lib/python3.8/dist-packages (from scikit-learn->torch-geometric==2.2.0) (1.2.0)\n",
            "Requirement already satisfied: torch>=1.8.1 in /usr/local/lib/python3.8/dist-packages (from torchmetrics->torch-geometric==2.2.0) (1.13.0+cu116)\n",
            "Requirement already satisfied: typing-extensions in /usr/local/lib/python3.8/dist-packages (from torchmetrics->torch-geometric==2.2.0) (4.4.0)\n",
            "Requirement already satisfied: packaging in /usr/local/lib/python3.8/dist-packages (from torchmetrics->torch-geometric==2.2.0) (21.3)\n",
            "Building wheels for collected packages: torch-geometric\n",
            "  Building wheel for torch-geometric (setup.py) ... \u001b[?25l\u001b[?25hdone\n",
            "  Created wheel for torch-geometric: filename=torch_geometric-2.2.0-py3-none-any.whl size=804245 sha256=1ae4ea114bceaf50d1b624c219bdac78d57d82b94a6a5b3ad7c945b4476d99fa\n",
            "  Stored in directory: /tmp/pip-ephem-wheel-cache-po65ujio/wheels/ba/e1/8e/28297c3201c884d3ea8c47ba71a9e71e547e556c0caa9cf5a2\n",
            "Successfully built torch-geometric\n",
            "Installing collected packages: torchmetrics, psutil, torch-geometric\n",
            "  Attempting uninstall: psutil\n",
            "    Found existing installation: psutil 5.4.8\n",
            "    Uninstalling psutil-5.4.8:\n",
            "      Successfully uninstalled psutil-5.4.8\n",
            "Successfully installed psutil-5.9.4 torch-geometric-2.2.0 torchmetrics-0.11.0\n"
          ]
        },
        {
          "output_type": "display_data",
          "data": {
            "application/vnd.colab-display-data+json": {
              "pip_warning": {
                "packages": [
                  "psutil"
                ]
              }
            }
          },
          "metadata": {}
        }
      ],
      "source": [
        "import torch\n",
        "\n",
        "#If you are in collab install this\n",
        "!pip uninstall torch-scatter torch-sparse torch-geometric torch-cluster  --y\n",
        "!pip install torch-scatter -f https://data.pyg.org/whl/torch-{torch.__version__}.html\n",
        "!pip install torch-sparse -f https://data.pyg.org/whl/torch-{torch.__version__}.html\n",
        "!pip install torch-cluster -f https://data.pyg.org/whl/torch-{torch.__version__}.html\n",
        "!pip install git+https://github.com/pyg-team/pytorch_geometric.git\n",
        "\n",
        "from torch_geometric.datasets import  ZINC\n",
        "from torch_geometric.loader import DataLoader\n",
        "from torch_geometric.nn import GCNConv, global_mean_pool\n",
        "import torch.nn as nn"
      ]
    },
    {
      "cell_type": "markdown",
      "source": [
        "# 1. Import the Zinc data set"
      ],
      "metadata": {
        "id": "QMwgpc7wx4ji"
      }
    },
    {
      "cell_type": "code",
      "source": [
        "root = 'data/ZINC'\n",
        "\n",
        "# We upload train, validation and test sets\n",
        "train_dataset = ZINC(root, subset=False, split='train') \n",
        "val_dataset = ZINC(root, subset=False, split='val')\n",
        "test_dataset = ZINC(root, subset=False, split='test')"
      ],
      "metadata": {
        "id": "ih7yJ90JXMEw",
        "colab": {
          "base_uri": "https://localhost:8080/"
        },
        "outputId": "1fa99b56-a2e6-4e10-84e4-4e20e3741611"
      },
      "execution_count": 2,
      "outputs": [
        {
          "output_type": "stream",
          "name": "stderr",
          "text": [
            "Downloading https://www.dropbox.com/s/feo9qle74kg48gy/molecules.zip?dl=1\n",
            "Extracting data/ZINC/molecules.zip\n",
            "Downloading https://raw.githubusercontent.com/graphdeeplearning/benchmarking-gnns/master/data/molecules/train.index\n",
            "Downloading https://raw.githubusercontent.com/graphdeeplearning/benchmarking-gnns/master/data/molecules/val.index\n",
            "Downloading https://raw.githubusercontent.com/graphdeeplearning/benchmarking-gnns/master/data/molecules/test.index\n",
            "Processing...\n",
            "Processing train dataset: 100%|██████████| 220011/220011 [00:21<00:00, 10250.31it/s]\n",
            "Processing val dataset: 100%|██████████| 24445/24445 [00:03<00:00, 7961.91it/s] \n",
            "Processing test dataset: 100%|██████████| 5000/5000 [00:00<00:00, 10518.68it/s]\n",
            "Done!\n"
          ]
        }
      ]
    },
    {
      "cell_type": "markdown",
      "source": [
        "# 2. Describe the Zinc dataset"
      ],
      "metadata": {
        "id": "krdRcPJhXkPT"
      }
    },
    {
      "cell_type": "markdown",
      "source": [
        "First, let's see a quick description of the whole data set. For this purpose we have been inspired by the [Google Colab](https://pytorch-geometric.readthedocs.io/en/latest/notes/colabs.html) provided by the PyG documentation (1. Introduction)"
      ],
      "metadata": {
        "id": "qP8wMB4xC7mj"
      }
    },
    {
      "cell_type": "code",
      "source": [
        "dataset = ZINC(root = root)\n",
        "\n",
        "print()\n",
        "print(f'Dataset: {dataset}:')\n",
        "print('====================')\n",
        "print(f'Number of graphs: {len(dataset)}')\n",
        "print(f'Number of features: {dataset.num_features}')\n",
        "print(f'Number of classes: {dataset.num_classes}')"
      ],
      "metadata": {
        "colab": {
          "base_uri": "https://localhost:8080/"
        },
        "id": "Ir0wHOt9XtaY",
        "outputId": "cfecada4-b1d5-4a98-80cc-20777814dfc1"
      },
      "execution_count": 3,
      "outputs": [
        {
          "output_type": "stream",
          "name": "stdout",
          "text": [
            "\n",
            "Dataset: ZINC(220011):\n",
            "====================\n",
            "Number of graphs: 220011\n",
            "Number of features: 1\n",
            "Number of classes: 218362\n"
          ]
        }
      ]
    },
    {
      "cell_type": "markdown",
      "source": [
        "Now, let's see basic description of each molecule (graph):"
      ],
      "metadata": {
        "id": "g5uUYdVXDpcl"
      }
    },
    {
      "cell_type": "code",
      "source": [
        "data = dataset[0]  \n",
        "\n",
        "print()\n",
        "print(data)\n",
        "print('=============================================================')\n",
        "\n",
        "# Gather some statistics about the first graph.\n",
        "print(f'Number of nodes: {data.num_nodes}')\n",
        "print(f'Number of edges: {data.num_edges}')\n",
        "print(f'Average node degree: {data.num_edges / data.num_nodes:.2f}')\n",
        "print(f'Has isolated nodes: {data.has_isolated_nodes()}')\n",
        "print(f'Is undirected: {data.is_undirected()}')"
      ],
      "metadata": {
        "colab": {
          "base_uri": "https://localhost:8080/"
        },
        "id": "xD6A4lWgC37Y",
        "outputId": "0dc37248-41e1-4708-c9eb-b3f5068feda2"
      },
      "execution_count": 4,
      "outputs": [
        {
          "output_type": "stream",
          "name": "stdout",
          "text": [
            "\n",
            "Data(x=[33, 1], edge_index=[2, 72], edge_attr=[72], y=[1])\n",
            "=============================================================\n",
            "Number of nodes: 33\n",
            "Number of edges: 72\n",
            "Average node degree: 2.18\n",
            "Has isolated nodes: False\n",
            "Is undirected: True\n"
          ]
        }
      ]
    },
    {
      "cell_type": "markdown",
      "source": [
        "## 2.1. Let's see a molecule"
      ],
      "metadata": {
        "id": "ZV83zuqgYyuH"
      }
    },
    {
      "cell_type": "code",
      "source": [
        "import networkx as nx\n",
        "import matplotlib.pyplot as plt\n",
        "from torch_geometric.utils import to_networkx"
      ],
      "metadata": {
        "id": "LL6RKWKBXtnb"
      },
      "execution_count": 5,
      "outputs": []
    },
    {
      "cell_type": "markdown",
      "source": [
        "Below we are going to show the graph of a molecule, where we can observe the nodes (atoms) and how they are connected through edges. In the example below we see 33 atoms and 36 connections between them."
      ],
      "metadata": {
        "id": "BVSif86gEswr"
      }
    },
    {
      "cell_type": "code",
      "source": [
        "G = to_networkx(data, to_undirected=True)\n",
        "nx.draw_networkx(G)\n",
        "plt.show()"
      ],
      "metadata": {
        "colab": {
          "base_uri": "https://localhost:8080/",
          "height": 248
        },
        "id": "ZuNAtdt-Xtpj",
        "outputId": "32741b83-5815-481d-d75a-b15f2f188976"
      },
      "execution_count": 6,
      "outputs": [
        {
          "output_type": "display_data",
          "data": {
            "text/plain": [
              "<Figure size 432x288 with 1 Axes>"
            ],
            "image/png": "[encoded data removed]"
          },
          "metadata": {}
        }
      ]
    },
    {
      "cell_type": "markdown",
      "source": [
        "# 3. Batching of graphs"
      ],
      "metadata": {
        "id": "KcgtkO6hXw8i"
      }
    },
    {
      "cell_type": "markdown",
      "source": [
        "Following the instructions of the documentation of PyG in [Google Colab 3. Graph Classification with Graph Neural Networks](https://pytorch-geometric.readthedocs.io/en/latest/notes/colabs.html), we are going to batch the graphs before inputting them into a Graph Neural Network to guarantee full GPU utilization. The length of this dimension is then equal to the number of examples grouped in a mini-batch and is typically referred to as the `batch_size`."
      ],
      "metadata": {
        "id": "HxNxpMBvFKhg"
      }
    },
    {
      "cell_type": "code",
      "source": [
        "batch_size = 2**8\n",
        "\n",
        "train_dataloader = DataLoader(dataset=train_dataset, batch_size=batch_size, num_workers=2)\n",
        "val_dataloader = DataLoader(dataset=val_dataset, batch_size=batch_size, num_workers=2)\n",
        "test_dataloader = DataLoader(dataset=test_dataset, batch_size=batch_size, num_workers=2)"
      ],
      "metadata": {
        "id": "pVbpTeOMXzk_"
      },
      "execution_count": 7,
      "outputs": []
    },
    {
      "cell_type": "markdown",
      "source": [
        "Below we are going to display the number of batches and the number of graphs within each batch"
      ],
      "metadata": {
        "id": "Z3GAEhUBFLGj"
      }
    },
    {
      "cell_type": "code",
      "source": [
        "for step, data in enumerate(train_dataloader):\n",
        "    print(f'Step {step + 1}:')\n",
        "    print('=======')\n",
        "    print(f'Number of graphs in the current batch: {data.num_graphs}')\n",
        "    print(data)\n",
        "    print()"
      ],
      "metadata": {
        "colab": {
          "base_uri": "https://localhost:8080/"
        },
        "id": "rAzILhOJXzpW",
        "outputId": "1d8a43b1-34a4-4a96-e52c-a812218eb2c6"
      },
      "execution_count": null,
      "outputs": [
        {
          "output_type": "stream",
          "name": "stdout",
          "text": [
            "Step 1:\n",
            "=======\n",
            "Number of graphs in the current batch: 1024\n",
            "DataBatch(x=[23810, 1], edge_index=[2, 51236], edge_attr=[51236], y=[1024], batch=[23810], ptr=[1025])\n",
            "\n",
            "Step 2:\n",
            "=======\n",
            "Number of graphs in the current batch: 1024\n",
            "DataBatch(x=[23831, 1], edge_index=[2, 51286], edge_attr=[51286], y=[1024], batch=[23831], ptr=[1025])\n",
            "\n",
            "Step 3:\n",
            "=======\n",
            "Number of graphs in the current batch: 1024\n",
            "DataBatch(x=[23754, 1], edge_index=[2, 51104], edge_attr=[51104], y=[1024], batch=[23754], ptr=[1025])\n",
            "\n",
            "Step 4:\n",
            "=======\n",
            "Number of graphs in the current batch: 1024\n",
            "DataBatch(x=[23791, 1], edge_index=[2, 51152], edge_attr=[51152], y=[1024], batch=[23791], ptr=[1025])\n",
            "\n",
            "Step 5:\n",
            "=======\n",
            "Number of graphs in the current batch: 1024\n",
            "DataBatch(x=[23757, 1], edge_index=[2, 51166], edge_attr=[51166], y=[1024], batch=[23757], ptr=[1025])\n",
            "\n",
            "Step 6:\n",
            "=======\n",
            "Number of graphs in the current batch: 1024\n",
            "DataBatch(x=[23579, 1], edge_index=[2, 50688], edge_attr=[50688], y=[1024], batch=[23579], ptr=[1025])\n",
            "\n",
            "Step 7:\n",
            "=======\n",
            "Number of graphs in the current batch: 1024\n",
            "DataBatch(x=[23703, 1], edge_index=[2, 50998], edge_attr=[50998], y=[1024], batch=[23703], ptr=[1025])\n",
            "\n",
            "Step 8:\n",
            "=======\n",
            "Number of graphs in the current batch: 1024\n",
            "DataBatch(x=[23651, 1], edge_index=[2, 50896], edge_attr=[50896], y=[1024], batch=[23651], ptr=[1025])\n",
            "\n",
            "Step 9:\n",
            "=======\n",
            "Number of graphs in the current batch: 1024\n",
            "DataBatch(x=[23921, 1], edge_index=[2, 51574], edge_attr=[51574], y=[1024], batch=[23921], ptr=[1025])\n",
            "\n",
            "Step 10:\n",
            "=======\n",
            "Number of graphs in the current batch: 1024\n",
            "DataBatch(x=[23745, 1], edge_index=[2, 51124], edge_attr=[51124], y=[1024], batch=[23745], ptr=[1025])\n",
            "\n",
            "Step 11:\n",
            "=======\n",
            "Number of graphs in the current batch: 1024\n",
            "DataBatch(x=[23758, 1], edge_index=[2, 51148], edge_attr=[51148], y=[1024], batch=[23758], ptr=[1025])\n",
            "\n",
            "Step 12:\n",
            "=======\n",
            "Number of graphs in the current batch: 1024\n",
            "DataBatch(x=[23558, 1], edge_index=[2, 50624], edge_attr=[50624], y=[1024], batch=[23558], ptr=[1025])\n",
            "\n",
            "Step 13:\n",
            "=======\n",
            "Number of graphs in the current batch: 1024\n",
            "DataBatch(x=[23769, 1], edge_index=[2, 51174], edge_attr=[51174], y=[1024], batch=[23769], ptr=[1025])\n",
            "\n",
            "Step 14:\n",
            "=======\n",
            "Number of graphs in the current batch: 1024\n",
            "DataBatch(x=[23617, 1], edge_index=[2, 50888], edge_attr=[50888], y=[1024], batch=[23617], ptr=[1025])\n",
            "\n",
            "Step 15:\n",
            "=======\n",
            "Number of graphs in the current batch: 1024\n",
            "DataBatch(x=[23612, 1], edge_index=[2, 50768], edge_attr=[50768], y=[1024], batch=[23612], ptr=[1025])\n",
            "\n",
            "Step 16:\n",
            "=======\n",
            "Number of graphs in the current batch: 1024\n",
            "DataBatch(x=[23873, 1], edge_index=[2, 51360], edge_attr=[51360], y=[1024], batch=[23873], ptr=[1025])\n",
            "\n",
            "Step 17:\n",
            "=======\n",
            "Number of graphs in the current batch: 1024\n",
            "DataBatch(x=[23407, 1], edge_index=[2, 50358], edge_attr=[50358], y=[1024], batch=[23407], ptr=[1025])\n",
            "\n",
            "Step 18:\n",
            "=======\n",
            "Number of graphs in the current batch: 1024\n",
            "DataBatch(x=[23934, 1], edge_index=[2, 51544], edge_attr=[51544], y=[1024], batch=[23934], ptr=[1025])\n",
            "\n",
            "Step 19:\n",
            "=======\n",
            "Number of graphs in the current batch: 1024\n",
            "DataBatch(x=[23767, 1], edge_index=[2, 51122], edge_attr=[51122], y=[1024], batch=[23767], ptr=[1025])\n",
            "\n",
            "Step 20:\n",
            "=======\n",
            "Number of graphs in the current batch: 1024\n",
            "DataBatch(x=[23765, 1], edge_index=[2, 51144], edge_attr=[51144], y=[1024], batch=[23765], ptr=[1025])\n",
            "\n",
            "Step 21:\n",
            "=======\n",
            "Number of graphs in the current batch: 1024\n",
            "DataBatch(x=[23978, 1], edge_index=[2, 51628], edge_attr=[51628], y=[1024], batch=[23978], ptr=[1025])\n",
            "\n",
            "Step 22:\n",
            "=======\n",
            "Number of graphs in the current batch: 1024\n",
            "DataBatch(x=[23762, 1], edge_index=[2, 51102], edge_attr=[51102], y=[1024], batch=[23762], ptr=[1025])\n",
            "\n",
            "Step 23:\n",
            "=======\n",
            "Number of graphs in the current batch: 1024\n",
            "DataBatch(x=[23495, 1], edge_index=[2, 50492], edge_attr=[50492], y=[1024], batch=[23495], ptr=[1025])\n",
            "\n",
            "Step 24:\n",
            "=======\n",
            "Number of graphs in the current batch: 1024\n",
            "DataBatch(x=[23788, 1], edge_index=[2, 51168], edge_attr=[51168], y=[1024], batch=[23788], ptr=[1025])\n",
            "\n",
            "Step 25:\n",
            "=======\n",
            "Number of graphs in the current batch: 1024\n",
            "DataBatch(x=[23737, 1], edge_index=[2, 51076], edge_attr=[51076], y=[1024], batch=[23737], ptr=[1025])\n",
            "\n",
            "Step 26:\n",
            "=======\n",
            "Number of graphs in the current batch: 1024\n",
            "DataBatch(x=[23771, 1], edge_index=[2, 51158], edge_attr=[51158], y=[1024], batch=[23771], ptr=[1025])\n",
            "\n",
            "Step 27:\n",
            "=======\n",
            "Number of graphs in the current batch: 1024\n",
            "DataBatch(x=[23567, 1], edge_index=[2, 50674], edge_attr=[50674], y=[1024], batch=[23567], ptr=[1025])\n",
            "\n",
            "Step 28:\n",
            "=======\n",
            "Number of graphs in the current batch: 1024\n",
            "DataBatch(x=[23860, 1], edge_index=[2, 51332], edge_attr=[51332], y=[1024], batch=[23860], ptr=[1025])\n",
            "\n",
            "Step 29:\n",
            "=======\n",
            "Number of graphs in the current batch: 1024\n",
            "DataBatch(x=[23913, 1], edge_index=[2, 51556], edge_attr=[51556], y=[1024], batch=[23913], ptr=[1025])\n",
            "\n",
            "Step 30:\n",
            "=======\n",
            "Number of graphs in the current batch: 1024\n",
            "DataBatch(x=[23644, 1], edge_index=[2, 50878], edge_attr=[50878], y=[1024], batch=[23644], ptr=[1025])\n",
            "\n",
            "Step 31:\n",
            "=======\n",
            "Number of graphs in the current batch: 1024\n",
            "DataBatch(x=[23710, 1], edge_index=[2, 51094], edge_attr=[51094], y=[1024], batch=[23710], ptr=[1025])\n",
            "\n",
            "Step 32:\n",
            "=======\n",
            "Number of graphs in the current batch: 1024\n",
            "DataBatch(x=[23659, 1], edge_index=[2, 50958], edge_attr=[50958], y=[1024], batch=[23659], ptr=[1025])\n",
            "\n",
            "Step 33:\n",
            "=======\n",
            "Number of graphs in the current batch: 1024\n",
            "DataBatch(x=[23647, 1], edge_index=[2, 50872], edge_attr=[50872], y=[1024], batch=[23647], ptr=[1025])\n",
            "\n",
            "Step 34:\n",
            "=======\n",
            "Number of graphs in the current batch: 1024\n",
            "DataBatch(x=[23774, 1], edge_index=[2, 51096], edge_attr=[51096], y=[1024], batch=[23774], ptr=[1025])\n",
            "\n",
            "Step 35:\n",
            "=======\n",
            "Number of graphs in the current batch: 1024\n",
            "DataBatch(x=[23460, 1], edge_index=[2, 50462], edge_attr=[50462], y=[1024], batch=[23460], ptr=[1025])\n",
            "\n",
            "Step 36:\n",
            "=======\n",
            "Number of graphs in the current batch: 1024\n",
            "DataBatch(x=[23703, 1], edge_index=[2, 50978], edge_attr=[50978], y=[1024], batch=[23703], ptr=[1025])\n",
            "\n",
            "Step 37:\n",
            "=======\n",
            "Number of graphs in the current batch: 1024\n",
            "DataBatch(x=[23749, 1], edge_index=[2, 51122], edge_attr=[51122], y=[1024], batch=[23749], ptr=[1025])\n",
            "\n",
            "Step 38:\n",
            "=======\n",
            "Number of graphs in the current batch: 1024\n",
            "DataBatch(x=[23738, 1], edge_index=[2, 51120], edge_attr=[51120], y=[1024], batch=[23738], ptr=[1025])\n",
            "\n",
            "Step 39:\n",
            "=======\n",
            "Number of graphs in the current batch: 1024\n",
            "DataBatch(x=[23778, 1], edge_index=[2, 51118], edge_attr=[51118], y=[1024], batch=[23778], ptr=[1025])\n",
            "\n",
            "Step 40:\n",
            "=======\n",
            "Number of graphs in the current batch: 1024\n",
            "DataBatch(x=[23649, 1], edge_index=[2, 50866], edge_attr=[50866], y=[1024], batch=[23649], ptr=[1025])\n",
            "\n",
            "Step 41:\n",
            "=======\n",
            "Number of graphs in the current batch: 1024\n",
            "DataBatch(x=[23822, 1], edge_index=[2, 51224], edge_attr=[51224], y=[1024], batch=[23822], ptr=[1025])\n",
            "\n",
            "Step 42:\n",
            "=======\n",
            "Number of graphs in the current batch: 1024\n",
            "DataBatch(x=[23595, 1], edge_index=[2, 50750], edge_attr=[50750], y=[1024], batch=[23595], ptr=[1025])\n",
            "\n",
            "Step 43:\n",
            "=======\n",
            "Number of graphs in the current batch: 1024\n",
            "DataBatch(x=[23869, 1], edge_index=[2, 51398], edge_attr=[51398], y=[1024], batch=[23869], ptr=[1025])\n",
            "\n",
            "Step 44:\n",
            "=======\n",
            "Number of graphs in the current batch: 1024\n",
            "DataBatch(x=[23858, 1], edge_index=[2, 51334], edge_attr=[51334], y=[1024], batch=[23858], ptr=[1025])\n",
            "\n",
            "Step 45:\n",
            "=======\n",
            "Number of graphs in the current batch: 1024\n",
            "DataBatch(x=[23971, 1], edge_index=[2, 51712], edge_attr=[51712], y=[1024], batch=[23971], ptr=[1025])\n",
            "\n",
            "Step 46:\n",
            "=======\n",
            "Number of graphs in the current batch: 1024\n",
            "DataBatch(x=[23585, 1], edge_index=[2, 50740], edge_attr=[50740], y=[1024], batch=[23585], ptr=[1025])\n",
            "\n",
            "Step 47:\n",
            "=======\n",
            "Number of graphs in the current batch: 1024\n",
            "DataBatch(x=[23624, 1], edge_index=[2, 50752], edge_attr=[50752], y=[1024], batch=[23624], ptr=[1025])\n",
            "\n",
            "Step 48:\n",
            "=======\n",
            "Number of graphs in the current batch: 1024\n",
            "DataBatch(x=[23806, 1], edge_index=[2, 51194], edge_attr=[51194], y=[1024], batch=[23806], ptr=[1025])\n",
            "\n",
            "Step 49:\n",
            "=======\n",
            "Number of graphs in the current batch: 1024\n",
            "DataBatch(x=[23775, 1], edge_index=[2, 51130], edge_attr=[51130], y=[1024], batch=[23775], ptr=[1025])\n",
            "\n",
            "Step 50:\n",
            "=======\n",
            "Number of graphs in the current batch: 1024\n",
            "DataBatch(x=[23552, 1], edge_index=[2, 50676], edge_attr=[50676], y=[1024], batch=[23552], ptr=[1025])\n",
            "\n",
            "Step 51:\n",
            "=======\n",
            "Number of graphs in the current batch: 1024\n",
            "DataBatch(x=[23612, 1], edge_index=[2, 50728], edge_attr=[50728], y=[1024], batch=[23612], ptr=[1025])\n",
            "\n",
            "Step 52:\n",
            "=======\n",
            "Number of graphs in the current batch: 1024\n",
            "DataBatch(x=[23918, 1], edge_index=[2, 51568], edge_attr=[51568], y=[1024], batch=[23918], ptr=[1025])\n",
            "\n",
            "Step 53:\n",
            "=======\n",
            "Number of graphs in the current batch: 1024\n",
            "DataBatch(x=[23640, 1], edge_index=[2, 50846], edge_attr=[50846], y=[1024], batch=[23640], ptr=[1025])\n",
            "\n",
            "Step 54:\n",
            "=======\n",
            "Number of graphs in the current batch: 1024\n",
            "DataBatch(x=[23771, 1], edge_index=[2, 51170], edge_attr=[51170], y=[1024], batch=[23771], ptr=[1025])\n",
            "\n",
            "Step 55:\n",
            "=======\n",
            "Number of graphs in the current batch: 1024\n",
            "DataBatch(x=[23679, 1], edge_index=[2, 50962], edge_attr=[50962], y=[1024], batch=[23679], ptr=[1025])\n",
            "\n",
            "Step 56:\n",
            "=======\n",
            "Number of graphs in the current batch: 1024\n",
            "DataBatch(x=[23705, 1], edge_index=[2, 51038], edge_attr=[51038], y=[1024], batch=[23705], ptr=[1025])\n",
            "\n",
            "Step 57:\n",
            "=======\n",
            "Number of graphs in the current batch: 1024\n",
            "DataBatch(x=[23909, 1], edge_index=[2, 51554], edge_attr=[51554], y=[1024], batch=[23909], ptr=[1025])\n",
            "\n",
            "Step 58:\n",
            "=======\n",
            "Number of graphs in the current batch: 1024\n",
            "DataBatch(x=[23449, 1], edge_index=[2, 50380], edge_attr=[50380], y=[1024], batch=[23449], ptr=[1025])\n",
            "\n",
            "Step 59:\n",
            "=======\n",
            "Number of graphs in the current batch: 1024\n",
            "DataBatch(x=[23492, 1], edge_index=[2, 50494], edge_attr=[50494], y=[1024], batch=[23492], ptr=[1025])\n",
            "\n",
            "Step 60:\n",
            "=======\n",
            "Number of graphs in the current batch: 1024\n",
            "DataBatch(x=[23656, 1], edge_index=[2, 50948], edge_attr=[50948], y=[1024], batch=[23656], ptr=[1025])\n",
            "\n",
            "Step 61:\n",
            "=======\n",
            "Number of graphs in the current batch: 1024\n",
            "DataBatch(x=[23663, 1], edge_index=[2, 50982], edge_attr=[50982], y=[1024], batch=[23663], ptr=[1025])\n",
            "\n",
            "Step 62:\n",
            "=======\n",
            "Number of graphs in the current batch: 1024\n",
            "DataBatch(x=[23598, 1], edge_index=[2, 50704], edge_attr=[50704], y=[1024], batch=[23598], ptr=[1025])\n",
            "\n",
            "Step 63:\n",
            "=======\n",
            "Number of graphs in the current batch: 1024\n",
            "DataBatch(x=[23297, 1], edge_index=[2, 50002], edge_attr=[50002], y=[1024], batch=[23297], ptr=[1025])\n",
            "\n",
            "Step 64:\n",
            "=======\n",
            "Number of graphs in the current batch: 1024\n",
            "DataBatch(x=[23651, 1], edge_index=[2, 50900], edge_attr=[50900], y=[1024], batch=[23651], ptr=[1025])\n",
            "\n",
            "Step 65:\n",
            "=======\n",
            "Number of graphs in the current batch: 1024\n",
            "DataBatch(x=[23851, 1], edge_index=[2, 51372], edge_attr=[51372], y=[1024], batch=[23851], ptr=[1025])\n",
            "\n",
            "Step 66:\n",
            "=======\n",
            "Number of graphs in the current batch: 1024\n",
            "DataBatch(x=[24056, 1], edge_index=[2, 51828], edge_attr=[51828], y=[1024], batch=[24056], ptr=[1025])\n",
            "\n",
            "Step 67:\n",
            "=======\n",
            "Number of graphs in the current batch: 1024\n",
            "DataBatch(x=[23631, 1], edge_index=[2, 50802], edge_attr=[50802], y=[1024], batch=[23631], ptr=[1025])\n",
            "\n",
            "Step 68:\n",
            "=======\n",
            "Number of graphs in the current batch: 1024\n",
            "DataBatch(x=[23896, 1], edge_index=[2, 51422], edge_attr=[51422], y=[1024], batch=[23896], ptr=[1025])\n",
            "\n",
            "Step 69:\n",
            "=======\n",
            "Number of graphs in the current batch: 1024\n",
            "DataBatch(x=[23567, 1], edge_index=[2, 50692], edge_attr=[50692], y=[1024], batch=[23567], ptr=[1025])\n",
            "\n",
            "Step 70:\n",
            "=======\n",
            "Number of graphs in the current batch: 1024\n",
            "DataBatch(x=[23683, 1], edge_index=[2, 50944], edge_attr=[50944], y=[1024], batch=[23683], ptr=[1025])\n",
            "\n",
            "Step 71:\n",
            "=======\n",
            "Number of graphs in the current batch: 1024\n",
            "DataBatch(x=[23772, 1], edge_index=[2, 51150], edge_attr=[51150], y=[1024], batch=[23772], ptr=[1025])\n",
            "\n",
            "Step 72:\n",
            "=======\n",
            "Number of graphs in the current batch: 1024\n",
            "DataBatch(x=[23684, 1], edge_index=[2, 50940], edge_attr=[50940], y=[1024], batch=[23684], ptr=[1025])\n",
            "\n",
            "Step 73:\n",
            "=======\n",
            "Number of graphs in the current batch: 1024\n",
            "DataBatch(x=[23803, 1], edge_index=[2, 51298], edge_attr=[51298], y=[1024], batch=[23803], ptr=[1025])\n",
            "\n",
            "Step 74:\n",
            "=======\n",
            "Number of graphs in the current batch: 1024\n",
            "DataBatch(x=[23660, 1], edge_index=[2, 50882], edge_attr=[50882], y=[1024], batch=[23660], ptr=[1025])\n",
            "\n",
            "Step 75:\n",
            "=======\n",
            "Number of graphs in the current batch: 1024\n",
            "DataBatch(x=[23716, 1], edge_index=[2, 51066], edge_attr=[51066], y=[1024], batch=[23716], ptr=[1025])\n",
            "\n",
            "Step 76:\n",
            "=======\n",
            "Number of graphs in the current batch: 1024\n",
            "DataBatch(x=[23751, 1], edge_index=[2, 51140], edge_attr=[51140], y=[1024], batch=[23751], ptr=[1025])\n",
            "\n",
            "Step 77:\n",
            "=======\n",
            "Number of graphs in the current batch: 1024\n",
            "DataBatch(x=[23819, 1], edge_index=[2, 51226], edge_attr=[51226], y=[1024], batch=[23819], ptr=[1025])\n",
            "\n",
            "Step 78:\n",
            "=======\n",
            "Number of graphs in the current batch: 1024\n",
            "DataBatch(x=[23787, 1], edge_index=[2, 51162], edge_attr=[51162], y=[1024], batch=[23787], ptr=[1025])\n",
            "\n",
            "Step 79:\n",
            "=======\n",
            "Number of graphs in the current batch: 1024\n",
            "DataBatch(x=[23873, 1], edge_index=[2, 51340], edge_attr=[51340], y=[1024], batch=[23873], ptr=[1025])\n",
            "\n",
            "Step 80:\n",
            "=======\n",
            "Number of graphs in the current batch: 1024\n",
            "DataBatch(x=[23643, 1], edge_index=[2, 50780], edge_attr=[50780], y=[1024], batch=[23643], ptr=[1025])\n",
            "\n",
            "Step 81:\n",
            "=======\n",
            "Number of graphs in the current batch: 1024\n",
            "DataBatch(x=[23643, 1], edge_index=[2, 50814], edge_attr=[50814], y=[1024], batch=[23643], ptr=[1025])\n",
            "\n",
            "Step 82:\n",
            "=======\n",
            "Number of graphs in the current batch: 1024\n",
            "DataBatch(x=[23918, 1], edge_index=[2, 51366], edge_attr=[51366], y=[1024], batch=[23918], ptr=[1025])\n",
            "\n",
            "Step 83:\n",
            "=======\n",
            "Number of graphs in the current batch: 1024\n",
            "DataBatch(x=[23715, 1], edge_index=[2, 51046], edge_attr=[51046], y=[1024], batch=[23715], ptr=[1025])\n",
            "\n",
            "Step 84:\n",
            "=======\n",
            "Number of graphs in the current batch: 1024\n",
            "DataBatch(x=[23636, 1], edge_index=[2, 50784], edge_attr=[50784], y=[1024], batch=[23636], ptr=[1025])\n",
            "\n",
            "Step 85:\n",
            "=======\n",
            "Number of graphs in the current batch: 1024\n",
            "DataBatch(x=[23655, 1], edge_index=[2, 50894], edge_attr=[50894], y=[1024], batch=[23655], ptr=[1025])\n",
            "\n",
            "Step 86:\n",
            "=======\n",
            "Number of graphs in the current batch: 1024\n",
            "DataBatch(x=[23611, 1], edge_index=[2, 50814], edge_attr=[50814], y=[1024], batch=[23611], ptr=[1025])\n",
            "\n",
            "Step 87:\n",
            "=======\n",
            "Number of graphs in the current batch: 1024\n",
            "DataBatch(x=[23498, 1], edge_index=[2, 50498], edge_attr=[50498], y=[1024], batch=[23498], ptr=[1025])\n",
            "\n",
            "Step 88:\n",
            "=======\n",
            "Number of graphs in the current batch: 1024\n",
            "DataBatch(x=[23667, 1], edge_index=[2, 50886], edge_attr=[50886], y=[1024], batch=[23667], ptr=[1025])\n",
            "\n",
            "Step 89:\n",
            "=======\n",
            "Number of graphs in the current batch: 1024\n",
            "DataBatch(x=[23651, 1], edge_index=[2, 50918], edge_attr=[50918], y=[1024], batch=[23651], ptr=[1025])\n",
            "\n",
            "Step 90:\n",
            "=======\n",
            "Number of graphs in the current batch: 1024\n",
            "DataBatch(x=[23655, 1], edge_index=[2, 50866], edge_attr=[50866], y=[1024], batch=[23655], ptr=[1025])\n",
            "\n",
            "Step 91:\n",
            "=======\n",
            "Number of graphs in the current batch: 1024\n",
            "DataBatch(x=[23845, 1], edge_index=[2, 51388], edge_attr=[51388], y=[1024], batch=[23845], ptr=[1025])\n",
            "\n",
            "Step 92:\n",
            "=======\n",
            "Number of graphs in the current batch: 1024\n",
            "DataBatch(x=[23564, 1], edge_index=[2, 50774], edge_attr=[50774], y=[1024], batch=[23564], ptr=[1025])\n",
            "\n",
            "Step 93:\n",
            "=======\n",
            "Number of graphs in the current batch: 1024\n",
            "DataBatch(x=[23994, 1], edge_index=[2, 51696], edge_attr=[51696], y=[1024], batch=[23994], ptr=[1025])\n",
            "\n",
            "Step 94:\n",
            "=======\n",
            "Number of graphs in the current batch: 1024\n",
            "DataBatch(x=[23487, 1], edge_index=[2, 50448], edge_attr=[50448], y=[1024], batch=[23487], ptr=[1025])\n",
            "\n",
            "Step 95:\n",
            "=======\n",
            "Number of graphs in the current batch: 1024\n",
            "DataBatch(x=[23625, 1], edge_index=[2, 50748], edge_attr=[50748], y=[1024], batch=[23625], ptr=[1025])\n",
            "\n",
            "Step 96:\n",
            "=======\n",
            "Number of graphs in the current batch: 1024\n",
            "DataBatch(x=[23742, 1], edge_index=[2, 51006], edge_attr=[51006], y=[1024], batch=[23742], ptr=[1025])\n",
            "\n",
            "Step 97:\n",
            "=======\n",
            "Number of graphs in the current batch: 1024\n",
            "DataBatch(x=[23507, 1], edge_index=[2, 50504], edge_attr=[50504], y=[1024], batch=[23507], ptr=[1025])\n",
            "\n",
            "Step 98:\n",
            "=======\n",
            "Number of graphs in the current batch: 1024\n",
            "DataBatch(x=[23426, 1], edge_index=[2, 50310], edge_attr=[50310], y=[1024], batch=[23426], ptr=[1025])\n",
            "\n",
            "Step 99:\n",
            "=======\n",
            "Number of graphs in the current batch: 1024\n",
            "DataBatch(x=[23805, 1], edge_index=[2, 51144], edge_attr=[51144], y=[1024], batch=[23805], ptr=[1025])\n",
            "\n",
            "Step 100:\n",
            "=======\n",
            "Number of graphs in the current batch: 1024\n",
            "DataBatch(x=[23791, 1], edge_index=[2, 51102], edge_attr=[51102], y=[1024], batch=[23791], ptr=[1025])\n",
            "\n",
            "Step 101:\n",
            "=======\n",
            "Number of graphs in the current batch: 1024\n",
            "DataBatch(x=[23467, 1], edge_index=[2, 50494], edge_attr=[50494], y=[1024], batch=[23467], ptr=[1025])\n",
            "\n",
            "Step 102:\n",
            "=======\n",
            "Number of graphs in the current batch: 1024\n",
            "DataBatch(x=[23763, 1], edge_index=[2, 51084], edge_attr=[51084], y=[1024], batch=[23763], ptr=[1025])\n",
            "\n",
            "Step 103:\n",
            "=======\n",
            "Number of graphs in the current batch: 1024\n",
            "DataBatch(x=[23607, 1], edge_index=[2, 50764], edge_attr=[50764], y=[1024], batch=[23607], ptr=[1025])\n",
            "\n",
            "Step 104:\n",
            "=======\n",
            "Number of graphs in the current batch: 1024\n",
            "DataBatch(x=[23807, 1], edge_index=[2, 51218], edge_attr=[51218], y=[1024], batch=[23807], ptr=[1025])\n",
            "\n",
            "Step 105:\n",
            "=======\n",
            "Number of graphs in the current batch: 1024\n",
            "DataBatch(x=[23436, 1], edge_index=[2, 50308], edge_attr=[50308], y=[1024], batch=[23436], ptr=[1025])\n",
            "\n",
            "Step 106:\n",
            "=======\n",
            "Number of graphs in the current batch: 1024\n",
            "DataBatch(x=[23789, 1], edge_index=[2, 51236], edge_attr=[51236], y=[1024], batch=[23789], ptr=[1025])\n",
            "\n",
            "Step 107:\n",
            "=======\n",
            "Number of graphs in the current batch: 1024\n",
            "DataBatch(x=[23721, 1], edge_index=[2, 51020], edge_attr=[51020], y=[1024], batch=[23721], ptr=[1025])\n",
            "\n",
            "Step 108:\n",
            "=======\n",
            "Number of graphs in the current batch: 1024\n",
            "DataBatch(x=[23587, 1], edge_index=[2, 50760], edge_attr=[50760], y=[1024], batch=[23587], ptr=[1025])\n",
            "\n",
            "Step 109:\n",
            "=======\n",
            "Number of graphs in the current batch: 1024\n",
            "DataBatch(x=[24030, 1], edge_index=[2, 51728], edge_attr=[51728], y=[1024], batch=[24030], ptr=[1025])\n",
            "\n",
            "Step 110:\n",
            "=======\n",
            "Number of graphs in the current batch: 1024\n",
            "DataBatch(x=[23986, 1], edge_index=[2, 51638], edge_attr=[51638], y=[1024], batch=[23986], ptr=[1025])\n",
            "\n",
            "Step 111:\n",
            "=======\n",
            "Number of graphs in the current batch: 1024\n",
            "DataBatch(x=[23705, 1], edge_index=[2, 50970], edge_attr=[50970], y=[1024], batch=[23705], ptr=[1025])\n",
            "\n",
            "Step 112:\n",
            "=======\n",
            "Number of graphs in the current batch: 1024\n",
            "DataBatch(x=[23596, 1], edge_index=[2, 50702], edge_attr=[50702], y=[1024], batch=[23596], ptr=[1025])\n",
            "\n",
            "Step 113:\n",
            "=======\n",
            "Number of graphs in the current batch: 1024\n",
            "DataBatch(x=[23618, 1], edge_index=[2, 50774], edge_attr=[50774], y=[1024], batch=[23618], ptr=[1025])\n",
            "\n",
            "Step 114:\n",
            "=======\n",
            "Number of graphs in the current batch: 1024\n",
            "DataBatch(x=[23473, 1], edge_index=[2, 50486], edge_attr=[50486], y=[1024], batch=[23473], ptr=[1025])\n",
            "\n",
            "Step 115:\n",
            "=======\n",
            "Number of graphs in the current batch: 1024\n",
            "DataBatch(x=[23823, 1], edge_index=[2, 51238], edge_attr=[51238], y=[1024], batch=[23823], ptr=[1025])\n",
            "\n",
            "Step 116:\n",
            "=======\n",
            "Number of graphs in the current batch: 1024\n",
            "DataBatch(x=[23779, 1], edge_index=[2, 51198], edge_attr=[51198], y=[1024], batch=[23779], ptr=[1025])\n",
            "\n",
            "Step 117:\n",
            "=======\n",
            "Number of graphs in the current batch: 1024\n",
            "DataBatch(x=[23551, 1], edge_index=[2, 50622], edge_attr=[50622], y=[1024], batch=[23551], ptr=[1025])\n",
            "\n",
            "Step 118:\n",
            "=======\n",
            "Number of graphs in the current batch: 1024\n",
            "DataBatch(x=[23732, 1], edge_index=[2, 51056], edge_attr=[51056], y=[1024], batch=[23732], ptr=[1025])\n",
            "\n",
            "Step 119:\n",
            "=======\n",
            "Number of graphs in the current batch: 1024\n",
            "DataBatch(x=[23881, 1], edge_index=[2, 51416], edge_attr=[51416], y=[1024], batch=[23881], ptr=[1025])\n",
            "\n",
            "Step 120:\n",
            "=======\n",
            "Number of graphs in the current batch: 1024\n",
            "DataBatch(x=[23588, 1], edge_index=[2, 50672], edge_attr=[50672], y=[1024], batch=[23588], ptr=[1025])\n",
            "\n",
            "Step 121:\n",
            "=======\n",
            "Number of graphs in the current batch: 1024\n",
            "DataBatch(x=[23782, 1], edge_index=[2, 51206], edge_attr=[51206], y=[1024], batch=[23782], ptr=[1025])\n",
            "\n",
            "Step 122:\n",
            "=======\n",
            "Number of graphs in the current batch: 1024\n",
            "DataBatch(x=[23638, 1], edge_index=[2, 50876], edge_attr=[50876], y=[1024], batch=[23638], ptr=[1025])\n",
            "\n",
            "Step 123:\n",
            "=======\n",
            "Number of graphs in the current batch: 1024\n",
            "DataBatch(x=[23650, 1], edge_index=[2, 50876], edge_attr=[50876], y=[1024], batch=[23650], ptr=[1025])\n",
            "\n",
            "Step 124:\n",
            "=======\n",
            "Number of graphs in the current batch: 1024\n",
            "DataBatch(x=[23778, 1], edge_index=[2, 51136], edge_attr=[51136], y=[1024], batch=[23778], ptr=[1025])\n",
            "\n",
            "Step 125:\n",
            "=======\n",
            "Number of graphs in the current batch: 1024\n",
            "DataBatch(x=[23789, 1], edge_index=[2, 51156], edge_attr=[51156], y=[1024], batch=[23789], ptr=[1025])\n",
            "\n",
            "Step 126:\n",
            "=======\n",
            "Number of graphs in the current batch: 1024\n",
            "DataBatch(x=[23668, 1], edge_index=[2, 50962], edge_attr=[50962], y=[1024], batch=[23668], ptr=[1025])\n",
            "\n",
            "Step 127:\n",
            "=======\n",
            "Number of graphs in the current batch: 1024\n",
            "DataBatch(x=[23589, 1], edge_index=[2, 50782], edge_attr=[50782], y=[1024], batch=[23589], ptr=[1025])\n",
            "\n",
            "Step 128:\n",
            "=======\n",
            "Number of graphs in the current batch: 1024\n",
            "DataBatch(x=[23732, 1], edge_index=[2, 51112], edge_attr=[51112], y=[1024], batch=[23732], ptr=[1025])\n",
            "\n",
            "Step 129:\n",
            "=======\n",
            "Number of graphs in the current batch: 1024\n",
            "DataBatch(x=[23774, 1], edge_index=[2, 51164], edge_attr=[51164], y=[1024], batch=[23774], ptr=[1025])\n",
            "\n",
            "Step 130:\n",
            "=======\n",
            "Number of graphs in the current batch: 1024\n",
            "DataBatch(x=[23623, 1], edge_index=[2, 50792], edge_attr=[50792], y=[1024], batch=[23623], ptr=[1025])\n",
            "\n",
            "Step 131:\n",
            "=======\n",
            "Number of graphs in the current batch: 1024\n",
            "DataBatch(x=[23734, 1], edge_index=[2, 51068], edge_attr=[51068], y=[1024], batch=[23734], ptr=[1025])\n",
            "\n",
            "Step 132:\n",
            "=======\n",
            "Number of graphs in the current batch: 1024\n",
            "DataBatch(x=[23462, 1], edge_index=[2, 50472], edge_attr=[50472], y=[1024], batch=[23462], ptr=[1025])\n",
            "\n",
            "Step 133:\n",
            "=======\n",
            "Number of graphs in the current batch: 1024\n",
            "DataBatch(x=[23702, 1], edge_index=[2, 50954], edge_attr=[50954], y=[1024], batch=[23702], ptr=[1025])\n",
            "\n",
            "Step 134:\n",
            "=======\n",
            "Number of graphs in the current batch: 1024\n",
            "DataBatch(x=[23584, 1], edge_index=[2, 50712], edge_attr=[50712], y=[1024], batch=[23584], ptr=[1025])\n",
            "\n",
            "Step 135:\n",
            "=======\n",
            "Number of graphs in the current batch: 1024\n",
            "DataBatch(x=[23493, 1], edge_index=[2, 50466], edge_attr=[50466], y=[1024], batch=[23493], ptr=[1025])\n",
            "\n",
            "Step 136:\n",
            "=======\n",
            "Number of graphs in the current batch: 1024\n",
            "DataBatch(x=[23660, 1], edge_index=[2, 50880], edge_attr=[50880], y=[1024], batch=[23660], ptr=[1025])\n",
            "\n",
            "Step 137:\n",
            "=======\n",
            "Number of graphs in the current batch: 1024\n",
            "DataBatch(x=[23885, 1], edge_index=[2, 51348], edge_attr=[51348], y=[1024], batch=[23885], ptr=[1025])\n",
            "\n",
            "Step 138:\n",
            "=======\n",
            "Number of graphs in the current batch: 1024\n",
            "DataBatch(x=[23936, 1], edge_index=[2, 51534], edge_attr=[51534], y=[1024], batch=[23936], ptr=[1025])\n",
            "\n",
            "Step 139:\n",
            "=======\n",
            "Number of graphs in the current batch: 1024\n",
            "DataBatch(x=[23751, 1], edge_index=[2, 51048], edge_attr=[51048], y=[1024], batch=[23751], ptr=[1025])\n",
            "\n",
            "Step 140:\n",
            "=======\n",
            "Number of graphs in the current batch: 1024\n",
            "DataBatch(x=[23606, 1], edge_index=[2, 50780], edge_attr=[50780], y=[1024], batch=[23606], ptr=[1025])\n",
            "\n",
            "Step 141:\n",
            "=======\n",
            "Number of graphs in the current batch: 1024\n",
            "DataBatch(x=[23847, 1], edge_index=[2, 51372], edge_attr=[51372], y=[1024], batch=[23847], ptr=[1025])\n",
            "\n",
            "Step 142:\n",
            "=======\n",
            "Number of graphs in the current batch: 1024\n",
            "DataBatch(x=[23679, 1], edge_index=[2, 50978], edge_attr=[50978], y=[1024], batch=[23679], ptr=[1025])\n",
            "\n",
            "Step 143:\n",
            "=======\n",
            "Number of graphs in the current batch: 1024\n",
            "DataBatch(x=[23735, 1], edge_index=[2, 51070], edge_attr=[51070], y=[1024], batch=[23735], ptr=[1025])\n",
            "\n",
            "Step 144:\n",
            "=======\n",
            "Number of graphs in the current batch: 1024\n",
            "DataBatch(x=[23633, 1], edge_index=[2, 50762], edge_attr=[50762], y=[1024], batch=[23633], ptr=[1025])\n",
            "\n",
            "Step 145:\n",
            "=======\n",
            "Number of graphs in the current batch: 1024\n",
            "DataBatch(x=[23743, 1], edge_index=[2, 51060], edge_attr=[51060], y=[1024], batch=[23743], ptr=[1025])\n",
            "\n",
            "Step 146:\n",
            "=======\n",
            "Number of graphs in the current batch: 1024\n",
            "DataBatch(x=[23801, 1], edge_index=[2, 51256], edge_attr=[51256], y=[1024], batch=[23801], ptr=[1025])\n",
            "\n",
            "Step 147:\n",
            "=======\n",
            "Number of graphs in the current batch: 1024\n",
            "DataBatch(x=[23690, 1], edge_index=[2, 50992], edge_attr=[50992], y=[1024], batch=[23690], ptr=[1025])\n",
            "\n",
            "Step 148:\n",
            "=======\n",
            "Number of graphs in the current batch: 1024\n",
            "DataBatch(x=[23985, 1], edge_index=[2, 51744], edge_attr=[51744], y=[1024], batch=[23985], ptr=[1025])\n",
            "\n",
            "Step 149:\n",
            "=======\n",
            "Number of graphs in the current batch: 1024\n",
            "DataBatch(x=[23744, 1], edge_index=[2, 51040], edge_attr=[51040], y=[1024], batch=[23744], ptr=[1025])\n",
            "\n",
            "Step 150:\n",
            "=======\n",
            "Number of graphs in the current batch: 1024\n",
            "DataBatch(x=[23930, 1], edge_index=[2, 51488], edge_attr=[51488], y=[1024], batch=[23930], ptr=[1025])\n",
            "\n",
            "Step 151:\n",
            "=======\n",
            "Number of graphs in the current batch: 1024\n",
            "DataBatch(x=[23537, 1], edge_index=[2, 50506], edge_attr=[50506], y=[1024], batch=[23537], ptr=[1025])\n",
            "\n",
            "Step 152:\n",
            "=======\n",
            "Number of graphs in the current batch: 1024\n",
            "DataBatch(x=[23889, 1], edge_index=[2, 51396], edge_attr=[51396], y=[1024], batch=[23889], ptr=[1025])\n",
            "\n",
            "Step 153:\n",
            "=======\n",
            "Number of graphs in the current batch: 1024\n",
            "DataBatch(x=[23942, 1], edge_index=[2, 51480], edge_attr=[51480], y=[1024], batch=[23942], ptr=[1025])\n",
            "\n",
            "Step 154:\n",
            "=======\n",
            "Number of graphs in the current batch: 1024\n",
            "DataBatch(x=[23799, 1], edge_index=[2, 51210], edge_attr=[51210], y=[1024], batch=[23799], ptr=[1025])\n",
            "\n",
            "Step 155:\n",
            "=======\n",
            "Number of graphs in the current batch: 1024\n",
            "DataBatch(x=[23876, 1], edge_index=[2, 51400], edge_attr=[51400], y=[1024], batch=[23876], ptr=[1025])\n",
            "\n",
            "Step 156:\n",
            "=======\n",
            "Number of graphs in the current batch: 1024\n",
            "DataBatch(x=[23630, 1], edge_index=[2, 50792], edge_attr=[50792], y=[1024], batch=[23630], ptr=[1025])\n",
            "\n",
            "Step 157:\n",
            "=======\n",
            "Number of graphs in the current batch: 1024\n",
            "DataBatch(x=[23647, 1], edge_index=[2, 50838], edge_attr=[50838], y=[1024], batch=[23647], ptr=[1025])\n",
            "\n",
            "Step 158:\n",
            "=======\n",
            "Number of graphs in the current batch: 1024\n",
            "DataBatch(x=[23818, 1], edge_index=[2, 51162], edge_attr=[51162], y=[1024], batch=[23818], ptr=[1025])\n",
            "\n",
            "Step 159:\n",
            "=======\n",
            "Number of graphs in the current batch: 1024\n",
            "DataBatch(x=[23905, 1], edge_index=[2, 51448], edge_attr=[51448], y=[1024], batch=[23905], ptr=[1025])\n",
            "\n",
            "Step 160:\n",
            "=======\n",
            "Number of graphs in the current batch: 1024\n",
            "DataBatch(x=[23912, 1], edge_index=[2, 51460], edge_attr=[51460], y=[1024], batch=[23912], ptr=[1025])\n",
            "\n",
            "Step 161:\n",
            "=======\n",
            "Number of graphs in the current batch: 1024\n",
            "DataBatch(x=[23854, 1], edge_index=[2, 51354], edge_attr=[51354], y=[1024], batch=[23854], ptr=[1025])\n",
            "\n",
            "Step 162:\n",
            "=======\n",
            "Number of graphs in the current batch: 1024\n",
            "DataBatch(x=[23632, 1], edge_index=[2, 50770], edge_attr=[50770], y=[1024], batch=[23632], ptr=[1025])\n",
            "\n",
            "Step 163:\n",
            "=======\n",
            "Number of graphs in the current batch: 1024\n",
            "DataBatch(x=[23799, 1], edge_index=[2, 51258], edge_attr=[51258], y=[1024], batch=[23799], ptr=[1025])\n",
            "\n",
            "Step 164:\n",
            "=======\n",
            "Number of graphs in the current batch: 1024\n",
            "DataBatch(x=[23677, 1], edge_index=[2, 50892], edge_attr=[50892], y=[1024], batch=[23677], ptr=[1025])\n",
            "\n",
            "Step 165:\n",
            "=======\n",
            "Number of graphs in the current batch: 1024\n",
            "DataBatch(x=[23821, 1], edge_index=[2, 51270], edge_attr=[51270], y=[1024], batch=[23821], ptr=[1025])\n",
            "\n",
            "Step 166:\n",
            "=======\n",
            "Number of graphs in the current batch: 1024\n",
            "DataBatch(x=[24027, 1], edge_index=[2, 51776], edge_attr=[51776], y=[1024], batch=[24027], ptr=[1025])\n",
            "\n",
            "Step 167:\n",
            "=======\n",
            "Number of graphs in the current batch: 1024\n",
            "DataBatch(x=[23750, 1], edge_index=[2, 51094], edge_attr=[51094], y=[1024], batch=[23750], ptr=[1025])\n",
            "\n",
            "Step 168:\n",
            "=======\n",
            "Number of graphs in the current batch: 1024\n",
            "DataBatch(x=[23610, 1], edge_index=[2, 50740], edge_attr=[50740], y=[1024], batch=[23610], ptr=[1025])\n",
            "\n",
            "Step 169:\n",
            "=======\n",
            "Number of graphs in the current batch: 1024\n",
            "DataBatch(x=[23801, 1], edge_index=[2, 51232], edge_attr=[51232], y=[1024], batch=[23801], ptr=[1025])\n",
            "\n",
            "Step 170:\n",
            "=======\n",
            "Number of graphs in the current batch: 1024\n",
            "DataBatch(x=[23915, 1], edge_index=[2, 51512], edge_attr=[51512], y=[1024], batch=[23915], ptr=[1025])\n",
            "\n",
            "Step 171:\n",
            "=======\n",
            "Number of graphs in the current batch: 1024\n",
            "DataBatch(x=[23673, 1], edge_index=[2, 50874], edge_attr=[50874], y=[1024], batch=[23673], ptr=[1025])\n",
            "\n",
            "Step 172:\n",
            "=======\n",
            "Number of graphs in the current batch: 1024\n",
            "DataBatch(x=[23740, 1], edge_index=[2, 51082], edge_attr=[51082], y=[1024], batch=[23740], ptr=[1025])\n",
            "\n",
            "Step 173:\n",
            "=======\n",
            "Number of graphs in the current batch: 1024\n",
            "DataBatch(x=[23500, 1], edge_index=[2, 50542], edge_attr=[50542], y=[1024], batch=[23500], ptr=[1025])\n",
            "\n",
            "Step 174:\n",
            "=======\n",
            "Number of graphs in the current batch: 1024\n",
            "DataBatch(x=[23563, 1], edge_index=[2, 50614], edge_attr=[50614], y=[1024], batch=[23563], ptr=[1025])\n",
            "\n",
            "Step 175:\n",
            "=======\n",
            "Number of graphs in the current batch: 1024\n",
            "DataBatch(x=[23812, 1], edge_index=[2, 51252], edge_attr=[51252], y=[1024], batch=[23812], ptr=[1025])\n",
            "\n",
            "Step 176:\n",
            "=======\n",
            "Number of graphs in the current batch: 1024\n",
            "DataBatch(x=[23586, 1], edge_index=[2, 50776], edge_attr=[50776], y=[1024], batch=[23586], ptr=[1025])\n",
            "\n",
            "Step 177:\n",
            "=======\n",
            "Number of graphs in the current batch: 1024\n",
            "DataBatch(x=[23796, 1], edge_index=[2, 51198], edge_attr=[51198], y=[1024], batch=[23796], ptr=[1025])\n",
            "\n",
            "Step 178:\n",
            "=======\n",
            "Number of graphs in the current batch: 1024\n",
            "DataBatch(x=[23605, 1], edge_index=[2, 50742], edge_attr=[50742], y=[1024], batch=[23605], ptr=[1025])\n",
            "\n",
            "Step 179:\n",
            "=======\n",
            "Number of graphs in the current batch: 1024\n",
            "DataBatch(x=[23692, 1], edge_index=[2, 50884], edge_attr=[50884], y=[1024], batch=[23692], ptr=[1025])\n",
            "\n",
            "Step 180:\n",
            "=======\n",
            "Number of graphs in the current batch: 1024\n",
            "DataBatch(x=[23702, 1], edge_index=[2, 50976], edge_attr=[50976], y=[1024], batch=[23702], ptr=[1025])\n",
            "\n",
            "Step 181:\n",
            "=======\n",
            "Number of graphs in the current batch: 1024\n",
            "DataBatch(x=[23725, 1], edge_index=[2, 51076], edge_attr=[51076], y=[1024], batch=[23725], ptr=[1025])\n",
            "\n",
            "Step 182:\n",
            "=======\n",
            "Number of graphs in the current batch: 1024\n",
            "DataBatch(x=[23486, 1], edge_index=[2, 50432], edge_attr=[50432], y=[1024], batch=[23486], ptr=[1025])\n",
            "\n",
            "Step 183:\n",
            "=======\n",
            "Number of graphs in the current batch: 1024\n",
            "DataBatch(x=[23554, 1], edge_index=[2, 50676], edge_attr=[50676], y=[1024], batch=[23554], ptr=[1025])\n",
            "\n",
            "Step 184:\n",
            "=======\n",
            "Number of graphs in the current batch: 1024\n",
            "DataBatch(x=[23646, 1], edge_index=[2, 50848], edge_attr=[50848], y=[1024], batch=[23646], ptr=[1025])\n",
            "\n",
            "Step 185:\n",
            "=======\n",
            "Number of graphs in the current batch: 1024\n",
            "DataBatch(x=[23644, 1], edge_index=[2, 50868], edge_attr=[50868], y=[1024], batch=[23644], ptr=[1025])\n",
            "\n",
            "Step 186:\n",
            "=======\n",
            "Number of graphs in the current batch: 1024\n",
            "DataBatch(x=[23726, 1], edge_index=[2, 51080], edge_attr=[51080], y=[1024], batch=[23726], ptr=[1025])\n",
            "\n",
            "Step 187:\n",
            "=======\n",
            "Number of graphs in the current batch: 1024\n",
            "DataBatch(x=[23561, 1], edge_index=[2, 50664], edge_attr=[50664], y=[1024], batch=[23561], ptr=[1025])\n",
            "\n",
            "Step 188:\n",
            "=======\n",
            "Number of graphs in the current batch: 1024\n",
            "DataBatch(x=[23536, 1], edge_index=[2, 50576], edge_attr=[50576], y=[1024], batch=[23536], ptr=[1025])\n",
            "\n",
            "Step 189:\n",
            "=======\n",
            "Number of graphs in the current batch: 1024\n",
            "DataBatch(x=[23724, 1], edge_index=[2, 51034], edge_attr=[51034], y=[1024], batch=[23724], ptr=[1025])\n",
            "\n",
            "Step 190:\n",
            "=======\n",
            "Number of graphs in the current batch: 1024\n",
            "DataBatch(x=[23629, 1], edge_index=[2, 50804], edge_attr=[50804], y=[1024], batch=[23629], ptr=[1025])\n",
            "\n",
            "Step 191:\n",
            "=======\n",
            "Number of graphs in the current batch: 1024\n",
            "DataBatch(x=[23516, 1], edge_index=[2, 50540], edge_attr=[50540], y=[1024], batch=[23516], ptr=[1025])\n",
            "\n",
            "Step 192:\n",
            "=======\n",
            "Number of graphs in the current batch: 1024\n",
            "DataBatch(x=[23707, 1], edge_index=[2, 50990], edge_attr=[50990], y=[1024], batch=[23707], ptr=[1025])\n",
            "\n",
            "Step 193:\n",
            "=======\n",
            "Number of graphs in the current batch: 1024\n",
            "DataBatch(x=[23737, 1], edge_index=[2, 51012], edge_attr=[51012], y=[1024], batch=[23737], ptr=[1025])\n",
            "\n",
            "Step 194:\n",
            "=======\n",
            "Number of graphs in the current batch: 1024\n",
            "DataBatch(x=[23699, 1], edge_index=[2, 50958], edge_attr=[50958], y=[1024], batch=[23699], ptr=[1025])\n",
            "\n",
            "Step 195:\n",
            "=======\n",
            "Number of graphs in the current batch: 1024\n",
            "DataBatch(x=[23683, 1], edge_index=[2, 50952], edge_attr=[50952], y=[1024], batch=[23683], ptr=[1025])\n",
            "\n",
            "Step 196:\n",
            "=======\n",
            "Number of graphs in the current batch: 1024\n",
            "DataBatch(x=[23757, 1], edge_index=[2, 51086], edge_attr=[51086], y=[1024], batch=[23757], ptr=[1025])\n",
            "\n",
            "Step 197:\n",
            "=======\n",
            "Number of graphs in the current batch: 1024\n",
            "DataBatch(x=[23695, 1], edge_index=[2, 51060], edge_attr=[51060], y=[1024], batch=[23695], ptr=[1025])\n",
            "\n",
            "Step 198:\n",
            "=======\n",
            "Number of graphs in the current batch: 1024\n",
            "DataBatch(x=[23637, 1], edge_index=[2, 50818], edge_attr=[50818], y=[1024], batch=[23637], ptr=[1025])\n",
            "\n",
            "Step 199:\n",
            "=======\n",
            "Number of graphs in the current batch: 1024\n",
            "DataBatch(x=[23589, 1], edge_index=[2, 50732], edge_attr=[50732], y=[1024], batch=[23589], ptr=[1025])\n",
            "\n",
            "Step 200:\n",
            "=======\n",
            "Number of graphs in the current batch: 1024\n",
            "DataBatch(x=[23597, 1], edge_index=[2, 50780], edge_attr=[50780], y=[1024], batch=[23597], ptr=[1025])\n",
            "\n",
            "Step 201:\n",
            "=======\n",
            "Number of graphs in the current batch: 1024\n",
            "DataBatch(x=[23698, 1], edge_index=[2, 51014], edge_attr=[51014], y=[1024], batch=[23698], ptr=[1025])\n",
            "\n",
            "Step 202:\n",
            "=======\n",
            "Number of graphs in the current batch: 1024\n",
            "DataBatch(x=[23549, 1], edge_index=[2, 50644], edge_attr=[50644], y=[1024], batch=[23549], ptr=[1025])\n",
            "\n",
            "Step 203:\n",
            "=======\n",
            "Number of graphs in the current batch: 1024\n",
            "DataBatch(x=[23797, 1], edge_index=[2, 51292], edge_attr=[51292], y=[1024], batch=[23797], ptr=[1025])\n",
            "\n",
            "Step 204:\n",
            "=======\n",
            "Number of graphs in the current batch: 1024\n",
            "DataBatch(x=[23820, 1], edge_index=[2, 51250], edge_attr=[51250], y=[1024], batch=[23820], ptr=[1025])\n",
            "\n",
            "Step 205:\n",
            "=======\n",
            "Number of graphs in the current batch: 1024\n",
            "DataBatch(x=[23604, 1], edge_index=[2, 50812], edge_attr=[50812], y=[1024], batch=[23604], ptr=[1025])\n",
            "\n",
            "Step 206:\n",
            "=======\n",
            "Number of graphs in the current batch: 1024\n",
            "DataBatch(x=[23467, 1], edge_index=[2, 50456], edge_attr=[50456], y=[1024], batch=[23467], ptr=[1025])\n",
            "\n",
            "Step 207:\n",
            "=======\n",
            "Number of graphs in the current batch: 1024\n",
            "DataBatch(x=[23881, 1], edge_index=[2, 51380], edge_attr=[51380], y=[1024], batch=[23881], ptr=[1025])\n",
            "\n",
            "Step 208:\n",
            "=======\n",
            "Number of graphs in the current batch: 1024\n",
            "DataBatch(x=[23741, 1], edge_index=[2, 51076], edge_attr=[51076], y=[1024], batch=[23741], ptr=[1025])\n",
            "\n",
            "Step 209:\n",
            "=======\n",
            "Number of graphs in the current batch: 1024\n",
            "DataBatch(x=[23550, 1], edge_index=[2, 50686], edge_attr=[50686], y=[1024], batch=[23550], ptr=[1025])\n",
            "\n",
            "Step 210:\n",
            "=======\n",
            "Number of graphs in the current batch: 1024\n",
            "DataBatch(x=[23872, 1], edge_index=[2, 51378], edge_attr=[51378], y=[1024], batch=[23872], ptr=[1025])\n",
            "\n",
            "Step 211:\n",
            "=======\n",
            "Number of graphs in the current batch: 1024\n",
            "DataBatch(x=[23843, 1], edge_index=[2, 51254], edge_attr=[51254], y=[1024], batch=[23843], ptr=[1025])\n",
            "\n",
            "Step 212:\n",
            "=======\n",
            "Number of graphs in the current batch: 1024\n",
            "DataBatch(x=[23594, 1], edge_index=[2, 50730], edge_attr=[50730], y=[1024], batch=[23594], ptr=[1025])\n",
            "\n",
            "Step 213:\n",
            "=======\n",
            "Number of graphs in the current batch: 1024\n",
            "DataBatch(x=[23822, 1], edge_index=[2, 51356], edge_attr=[51356], y=[1024], batch=[23822], ptr=[1025])\n",
            "\n",
            "Step 214:\n",
            "=======\n",
            "Number of graphs in the current batch: 1024\n",
            "DataBatch(x=[23725, 1], edge_index=[2, 51036], edge_attr=[51036], y=[1024], batch=[23725], ptr=[1025])\n",
            "\n",
            "Step 215:\n",
            "=======\n",
            "Number of graphs in the current batch: 875\n",
            "DataBatch(x=[20331, 1], edge_index=[2, 43744], edge_attr=[43744], y=[875], batch=[20331], ptr=[876])\n",
            "\n"
          ]
        }
      ]
    },
    {
      "cell_type": "markdown",
      "source": [
        "# 4. Graph Neural Network Architecture\n",
        "\n"
      ],
      "metadata": {
        "id": "pIOB_4Ebx79W"
      }
    },
    {
      "cell_type": "markdown",
      "source": [
        "## 4.1. Define the NN"
      ],
      "metadata": {
        "id": "IqU5Xn6kawmG"
      }
    },
    {
      "cell_type": "markdown",
      "source": [
        "As we can see in the README.MD, the GNN is based on two type of layers:\n",
        "\n",
        "*   Message passing layers: with the goal of node embedding, nodes update their representations by aggregating the messages received from their immediate neighbours.\n",
        "*   Readout layer: collects all node representations in a graph to form a graph representation\n",
        "\n"
      ],
      "metadata": {
        "id": "DhdwzjY7fnKB"
      }
    },
    {
      "cell_type": "code",
      "source": [
        "class GCN(nn.Module):\n",
        "    def __init__(self, num_features, num_classes, hidden_channels_1, hidden_channels_2):\n",
        "        super(GCN, self).__init__()\n",
        "        self.conv1 = GCNConv(num_features, hidden_channels_1)\n",
        "        self.conv2 = GCNConv(hidden_channels_1, hidden_channels_1)\n",
        "        self.conv3 = GCNConv(hidden_channels_1, hidden_channels_2)\n",
        "        self.conv4 = GCNConv(hidden_channels_2, num_classes)\n",
        "\n",
        "    def forward(self, x, edge_index, batch):\n",
        "        # 1. Obtain node embeddings through Message passing layers \n",
        "        x = self.conv1(x, edge_index)\n",
        "        x = torch.relu(x)\n",
        "        x = self.conv2(x, edge_index)\n",
        "        x = torch.relu(x)\n",
        "        x = self.conv3(x, edge_index)\n",
        "        x = torch.relu(x)\n",
        "        x = self.conv4(x, edge_index)\n",
        "\n",
        "        # 2. Readout layer\n",
        "        g_pool = global_mean_pool(x, batch)\n",
        "        return g_pool"
      ],
      "metadata": {
        "id": "i4WtSpxwXRfT"
      },
      "execution_count": 8,
      "outputs": []
    },
    {
      "cell_type": "markdown",
      "source": [
        "After many trials, we reached that `hidden_channels_1 = 4, hidden_channels_2 = 4` are the best parameters for this model, as we explain the README.DM\n"
      ],
      "metadata": {
        "id": "jWjKK4zwFuVu"
      }
    },
    {
      "cell_type": "code",
      "source": [
        "model = GCN(num_features = 1, num_classes = 1, hidden_channels_1 = 4, hidden_channels_2 = 4)  # num_classes should be 1 for regression tasks\n",
        "model"
      ],
      "metadata": {
        "colab": {
          "base_uri": "https://localhost:8080/"
        },
        "id": "5IPMPkoRFq3Y",
        "outputId": "d0ec1847-659c-418b-f61c-0b4f77d3bee1"
      },
      "execution_count": 11,
      "outputs": [
        {
          "output_type": "execute_result",
          "data": {
            "text/plain": [
              "GCN(\n",
              "  (conv1): GCNConv(1, 4)\n",
              "  (conv2): GCNConv(4, 4)\n",
              "  (conv3): GCNConv(4, 4)\n",
              "  (conv4): GCNConv(4, 1)\n",
              ")"
            ]
          },
          "metadata": {},
          "execution_count": 11
        }
      ]
    },
    {
      "cell_type": "markdown",
      "source": [
        "## 4.2. A first forward example of the GNN"
      ],
      "metadata": {
        "id": "B0LYVhzLwJYP"
      }
    },
    {
      "cell_type": "markdown",
      "source": [
        "Let's see a first example without training the GNN. That is, a forward pass without doing backward propagation. For this purpose, first we are going to select a batch in the training set, and we will predict the solubility for each molecule in this batch:\n",
        "\n"
      ],
      "metadata": {
        "id": "XLBONhsvexoa"
      }
    },
    {
      "cell_type": "code",
      "source": [
        "for d in train_dataloader:\n",
        "    example_data = d\n",
        "    break\n",
        "print(example_data)"
      ],
      "metadata": {
        "colab": {
          "base_uri": "https://localhost:8080/"
        },
        "id": "JOtAwZ8Tew3Q",
        "outputId": "82c36a5c-db47-4ec7-d393-e2a05d2ec695"
      },
      "execution_count": 9,
      "outputs": [
        {
          "output_type": "stream",
          "name": "stdout",
          "text": [
            "DataBatch(x=[5938, 1], edge_index=[2, 12784], edge_attr=[12784], y=[256], batch=[5938], ptr=[257])\n"
          ]
        }
      ]
    },
    {
      "cell_type": "markdown",
      "source": [
        "We see above the size of each batch. The size of `y` is 256, so we are going to predict the solubility of 256 molecules:"
      ],
      "metadata": {
        "id": "qOfBGdrRGhli"
      }
    },
    {
      "cell_type": "code",
      "source": [
        "example_prediction = model(example_data.x.to(torch.float32), example_data.edge_index, example_data.batch)\n",
        "print(example_prediction.size())"
      ],
      "metadata": {
        "colab": {
          "base_uri": "https://localhost:8080/"
        },
        "id": "LQ9-g7zVe-_W",
        "outputId": "d3a15a25-cc70-47ce-f432-51c2eeca3411"
      },
      "execution_count": 12,
      "outputs": [
        {
          "output_type": "stream",
          "name": "stdout",
          "text": [
            "torch.Size([256, 1])\n"
          ]
        }
      ]
    },
    {
      "cell_type": "markdown",
      "source": [
        "## 4.3. Train the GNN"
      ],
      "metadata": {
        "id": "jPsZjhs5FX12"
      }
    },
    {
      "cell_type": "markdown",
      "source": [
        "Ahora vamos a entrenar la GNC"
      ],
      "metadata": {
        "id": "aba4sXUhe_Q0"
      }
    },
    {
      "cell_type": "code",
      "source": [
        "# Import required\n",
        "import matplotlib.pyplot as plt\n",
        "from statistics import mean"
      ],
      "metadata": {
        "id": "ZVDhkqzmfdUi"
      },
      "execution_count": 13,
      "outputs": []
    },
    {
      "cell_type": "code",
      "source": [
        "total_train_loss = [] # here we are going to store the mean of the training loss of all the batches for each epoch\n",
        "total_val_loss = [] # here we are going to store the mean of the validation loss of all the batches for each epoch\n",
        "loss_fn = torch.nn.MSELoss()\n",
        "optimizer = torch.optim.Adam(model.parameters(), lr = 0.0001)\n",
        "num_epochs = 20 \n",
        "\n",
        "model.train()\n",
        "\n",
        "for epoch in range(num_epochs):\n",
        "    train_running_loss = []\n",
        "    val_running_loss = []\n",
        "    \n",
        "    # Loop over the training dataset\n",
        "    for data in train_dataloader:\n",
        "        # Forward pass\n",
        "        output = model(data.x.to(torch.float32), data.edge_index, data.batch)\n",
        "        loss = loss_fn(output.squeeze(), data.y)\n",
        "\n",
        "        # Backward pass\n",
        "        optimizer.zero_grad()         # reset the optimizer gradient'\n",
        "        loss.backward()               # Backward the loss\n",
        "        optimizer.step()              # Apply optimizer\n",
        "\n",
        "        # Track the running loss for the training set\n",
        "        train_running_loss.append(loss.item())\n",
        "\n",
        "    total_train_loss.append(mean(train_running_loss))\n",
        "\n",
        "    # Loop over the validation dataset\n",
        "    with torch.no_grad():\n",
        "        for data in val_dataloader:\n",
        "            # Forward pass\n",
        "            output = model(data.x.to(torch.float32), data.edge_index, data.batch)\n",
        "            loss = loss_fn(output.squeeze(), data.y)\n",
        "\n",
        "            # Track the running loss for the validation set\n",
        "            val_running_loss.append(loss.item())\n",
        "\n",
        "    total_val_loss.append(mean(val_running_loss))\n",
        "    \n",
        "    # Print the loss for the current epoch\n",
        "    print(f\"Epoch {epoch+1}/{num_epochs}: Training Loss = {total_train_loss[-1]} Validation Loss = {total_val_loss[-1]}\")"
      ],
      "metadata": {
        "colab": {
          "base_uri": "https://localhost:8080/"
        },
        "id": "SIYfgaCKXRlZ",
        "outputId": "f7606912-3336-440f-f1f3-b46798158e29"
      },
      "execution_count": 14,
      "outputs": [
        {
          "output_type": "stream",
          "name": "stdout",
          "text": [
            "Epoch 1/20: Training Loss = 4.264682565733444 Validation Loss = 4.256985858082771\n",
            "Epoch 2/20: Training Loss = 4.196534926669542 Validation Loss = 4.253626830875874\n",
            "Epoch 3/20: Training Loss = 4.195634904018668 Validation Loss = 4.253463978568713\n",
            "Epoch 4/20: Training Loss = 4.195291304033856 Validation Loss = 4.25287102162838\n",
            "Epoch 5/20: Training Loss = 4.193476179311442 Validation Loss = 4.247893465061982\n",
            "Epoch 6/20: Training Loss = 4.1796433393345325 Validation Loss = 4.220531823734443\n",
            "Epoch 7/20: Training Loss = 4.12991163952406 Validation Loss = 4.1379833072423935\n",
            "Epoch 8/20: Training Loss = 4.026336758635765 Validation Loss = 4.0137569804986315\n",
            "Epoch 9/20: Training Loss = 3.9054655601811965 Validation Loss = 3.8908849904934564\n",
            "Epoch 10/20: Training Loss = 3.7937225508135417 Validation Loss = 3.7824560329318047\n",
            "Epoch 11/20: Training Loss = 3.6971327207809273 Validation Loss = 3.68999503304561\n",
            "Epoch 12/20: Training Loss = 3.6152572246484977 Validation Loss = 3.611915116508802\n",
            "Epoch 13/20: Training Loss = 3.546205942575322 Validation Loss = 3.5460398395856223\n",
            "Epoch 14/20: Training Loss = 3.488556860214056 Validation Loss = 3.49143385887146\n",
            "Epoch 15/20: Training Loss = 3.4406213413837343 Validation Loss = 3.4461049685875573\n",
            "Epoch 16/20: Training Loss = 3.4005275734635285 Validation Loss = 3.4077454010645547\n",
            "Epoch 17/20: Training Loss = 3.3661589689032976 Validation Loss = 3.374728967746099\n",
            "Epoch 18/20: Training Loss = 3.3360828711542974 Validation Loss = 3.345757134258747\n",
            "Epoch 19/20: Training Loss = 3.3093824828779974 Validation Loss = 3.3199451317389808\n",
            "Epoch 20/20: Training Loss = 3.2853561110274736 Validation Loss = 3.2967395931482315\n"
          ]
        }
      ]
    },
    {
      "cell_type": "markdown",
      "source": [
        "Find below the plot of the evolution of the loss for each epoch for both the training and validation sets:"
      ],
      "metadata": {
        "id": "wmhqAmj3ION6"
      }
    },
    {
      "cell_type": "code",
      "source": [
        "# Plot the running loss\n",
        "plt.plot(total_train_loss, label=\"Training Loss\")\n",
        "plt.plot(total_val_loss, label=\"Validation Loss\")\n",
        "plt.xlabel('Epoch')\n",
        "plt.ylabel('Loss')\n",
        "plt.legend()\n",
        "plt.show()"
      ],
      "metadata": {
        "colab": {
          "base_uri": "https://localhost:8080/",
          "height": 279
        },
        "id": "_6eLe0qBXRnq",
        "outputId": "a36af822-3736-4379-a14a-bd9e271d436b"
      },
      "execution_count": 15,
      "outputs": [
        {
          "output_type": "display_data",
          "data": {
            "text/plain": [
              "<Figure size 432x288 with 1 Axes>"
            ],
            "image/png": "[encoded data removed]"
          },
          "metadata": {
            "needs_background": "light"
          }
        }
      ]
    },
    {
      "cell_type": "markdown",
      "source": [
        "## 4.4. Test"
      ],
      "metadata": {
        "id": "zay3_yArBm1M"
      }
    },
    {
      "cell_type": "markdown",
      "source": [
        "Finally, we are going to run the GNN model trained above on the test data set"
      ],
      "metadata": {
        "id": "5rUg9EX5SjZL"
      }
    },
    {
      "cell_type": "code",
      "source": [
        "total_test_loss = []\n",
        "test_running_loss = []\n",
        "for data in test_dataloader:\n",
        "    # Forward pass\n",
        "    output = model(data.x.to(torch.float32), data.edge_index, data.batch)\n",
        "    loss  = loss_fn(output.squeeze(), data.y)\n",
        "\n",
        "    # Track the running loss for the validation set\n",
        "    test_running_loss.append(loss.item())\n",
        "\n",
        "total_test_loss.append(mean(test_running_loss))\n"
      ],
      "metadata": {
        "id": "ESqeMcyRsnCL"
      },
      "execution_count": 16,
      "outputs": []
    },
    {
      "cell_type": "code",
      "source": [
        "total_test_loss"
      ],
      "metadata": {
        "colab": {
          "base_uri": "https://localhost:8080/"
        },
        "id": "TgiR49tmtDFf",
        "outputId": "7c923351-d1c0-471a-880e-fe9d37b95864"
      },
      "execution_count": null,
      "outputs": [
        {
          "output_type": "execute_result",
          "data": {
            "text/plain": [
              "[2.9310264945030213]"
            ]
          },
          "metadata": {},
          "execution_count": 23
        }
      ]
    },
    {
      "cell_type": "code",
      "source": [
        "test_running_loss"
      ],
      "metadata": {
        "colab": {
          "base_uri": "https://localhost:8080/"
        },
        "id": "wBvDfAcZtFQO",
        "outputId": "81f9b135-1004-40a4-d087-2c3ea5580b9c"
      },
      "execution_count": null,
      "outputs": [
        {
          "output_type": "execute_result",
          "data": {
            "text/plain": [
              "[2.531412124633789,\n",
              " 2.4415268898010254,\n",
              " 3.323113441467285,\n",
              " 2.265665054321289,\n",
              " 2.624110460281372,\n",
              " 2.84913969039917,\n",
              " 3.587135076522827,\n",
              " 2.668394088745117,\n",
              " 2.227173328399658,\n",
              " 3.666693687438965,\n",
              " 2.3596150875091553,\n",
              " 3.068843126296997,\n",
              " 3.4332127571105957,\n",
              " 2.969585418701172,\n",
              " 2.595447301864624,\n",
              " 3.5132100582122803,\n",
              " 3.8870036602020264,\n",
              " 2.9172720909118652,\n",
              " 3.015608787536621,\n",
              " 2.67636775970459]"
            ]
          },
          "metadata": {},
          "execution_count": 24
        }
      ]
    },
    {
      "cell_type": "markdown",
      "source": [
        "# References"
      ],
      "metadata": {
        "id": "_v-iuZ2Xq7VL"
      }
    },
    {
      "cell_type": "markdown",
      "source": [
        "\n",
        "[1]: [Graph Neural Network and Some of GNN Applications: Everything You Need to Know](https://neptune.ai/blog/graph-neural-network-and-some-of-gnn-applications#:~:text=Graph%20Neural%20Networks%20(GNNs)%20are,and%20graph%2Dlevel%20prediction%20tasks). \n",
        "\n",
        "[2]: [TORCH_GEOMETRIC.DATASETS](https://pytorch-geometric.readthedocs.io/en/latest/modules/datasets.html#torch_geometric.datasets.ZINC). \n",
        "\n",
        "[3]: [PYG: COLAB NOTEBOOKS AND VIDEO TUTORIALS](https://pytorch-geometric.readthedocs.io/en/latest/notes/colabs.html)\n",
        "\n",
        "[4]: [Graph neural network](https://en.wikipedia.org/wiki/Graph_neural_network)\n",
        "\n",
        "[5]: [Node embeddings for Beginners](https://towardsdatascience.com/node-embeddings-for-beginners-554ab1625d98#:~:text=Node%20embeddings%20are%20a%20way,in%20machine%20learning%20prediction%20tasks.)\n",
        "\n",
        "[6]: [Graph Neural Network Layers](https://torchdrug.ai/docs/notes/layer.html#:~:text=A%20readout%20layer%20collects%20all,every%20node%20in%20the%20graph.)\n",
        "\n",
        "[7]: [A Beginner’s Guide to Graph Neural Networks Using PyTorch Geometric — Part 1](https://towardsdatascience.com/a-beginners-guide-to-graph-neural-networks-using-pytorch-geometric-part-1-d98dc93e7742)"
      ],
      "metadata": {
        "id": "N0CL78ogq9Os"
      }
    }
  ]
}